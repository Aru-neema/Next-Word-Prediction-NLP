{
  "cells": [
    {
      "cell_type": "markdown",
      "metadata": {
        "id": "yXrMd-a1E0Pl"
      },
      "source": [
        "# Next word predition\n",
        "\n",
        "**Project outline**\n",
        "Next word prediction NLP models are used to predict the most likely next word or sequence of words given in a context or output. Here, we are trying to build a tensorflow model and use recurrent neural network modelling design to build a model that can take in 3 words to predict the fourth word. The text corpus has been taken from the novel Pride and Prejudice from the Project Gutenberg (https://www.gutenberg.org/ebooks/1342)<br><br>\n",
        "\n",
        "\n",
        "**Method**\n",
        "While RNN is used to build the structure of the model, it is complemented by the power of LSTM, which can help in prediction of the next word depending on the words preceeding the input words (long term dependencies).\n",
        "\n",
        "So firstly, the textual data is cleaned and converted into squence of numbers for it to be evaluated by the model\n",
        "\n",
        "Then, the data is split for training and testing. A  sequential neural network model is created for sequential data processing and multi-class classification tasks, with 6 layers- 1 input layer, 1 embedding layer, 2 LSTM and 2 dense layers\n",
        "\n",
        "After building this model, the model is fitted after tuning it for callbacks and evaluation metrics.\n",
        "\n",
        "Then this model is used for prediction of next word when a user inputs a sequence of three words. <br><br>\n",
        "\n",
        "\n",
        "**Evaluation**\n",
        "Evalution is doen by looking the validation accuracy level and comparing the training and validation loss, which will help in understading if the model is under or overfitting.\n",
        "\n",
        "Validation accuracy is used as evalution metrics as it geives us better sense into how the model will perform with unknown dataset.\n",
        "\n",
        "*Source inspiration:* IG Tech Team by Ishwar Gautam"
      ]
    },
    {
      "cell_type": "markdown",
      "metadata": {
        "id": "2fnESpvm-Q6y"
      },
      "source": [
        "#Libraries"
      ]
    },
    {
      "cell_type": "code",
      "execution_count": null,
      "metadata": {
        "id": "rocQ-e62zssH"
      },
      "outputs": [],
      "source": [
        "import tensorflow as tf\n",
        "\n",
        "from tensorflow.keras.preprocessing.text import Tokenizer\n",
        "from tensorflow.keras.layers import Embedding, LSTM, Dense\n",
        "from tensorflow.keras.models import Sequential\n",
        "from tensorflow.keras.utils import to_categorical\n",
        "from tensorflow.keras.optimizers import Adam\n",
        "\n",
        "# Utility functions from TF\n",
        "import tensorflow as tf\n",
        "import keras\n",
        "import keras.utils\n",
        "from keras import layers\n",
        "from keras import losses\n",
        "from keras import utils\n",
        "\n",
        "#from tensorflow.keras import preprocessing\n",
        "from keras.utils import pad_sequences\n",
        "\n",
        "# Some Keras utility functions and sequential layers\n",
        "from keras.preprocessing.text import Tokenizer\n",
        "\n",
        "#from keras.preprocessing.sequence import pad_sequences\n",
        "from keras.layers import Dense, Embedding, LSTM, SpatialDropout1D, Bidirectional, Dropout\n",
        "#from keras.preprocessing.sequence import pad_sequences\n",
        "from keras.layers import  Bidirectional, Dropout\n",
        "import pickle\n",
        "import numpy as np\n",
        "import os\n",
        "import re"
      ]
    },
    {
      "cell_type": "code",
      "execution_count": null,
      "metadata": {
        "colab": {
          "base_uri": "https://localhost:8080/",
          "height": 73
        },
        "id": "U-DmWVfXz0c3",
        "outputId": "6c127e66-03f0-4c80-ca23-1a8189bca37b"
      },
      "outputs": [
        {
          "data": {
            "text/html": [
              "\n",
              "     <input type=\"file\" id=\"files-b5c29648-22be-4272-b9d8-4b356cdbbc9a\" name=\"files[]\" multiple disabled\n",
              "        style=\"border:none\" />\n",
              "     <output id=\"result-b5c29648-22be-4272-b9d8-4b356cdbbc9a\">\n",
              "      Upload widget is only available when the cell has been executed in the\n",
              "      current browser session. Please rerun this cell to enable.\n",
              "      </output>\n",
              "      <script>// Copyright 2017 Google LLC\n",
              "//\n",
              "// Licensed under the Apache License, Version 2.0 (the \"License\");\n",
              "// you may not use this file except in compliance with the License.\n",
              "// You may obtain a copy of the License at\n",
              "//\n",
              "//      http://www.apache.org/licenses/LICENSE-2.0\n",
              "//\n",
              "// Unless required by applicable law or agreed to in writing, software\n",
              "// distributed under the License is distributed on an \"AS IS\" BASIS,\n",
              "// WITHOUT WARRANTIES OR CONDITIONS OF ANY KIND, either express or implied.\n",
              "// See the License for the specific language governing permissions and\n",
              "// limitations under the License.\n",
              "\n",
              "/**\n",
              " * @fileoverview Helpers for google.colab Python module.\n",
              " */\n",
              "(function(scope) {\n",
              "function span(text, styleAttributes = {}) {\n",
              "  const element = document.createElement('span');\n",
              "  element.textContent = text;\n",
              "  for (const key of Object.keys(styleAttributes)) {\n",
              "    element.style[key] = styleAttributes[key];\n",
              "  }\n",
              "  return element;\n",
              "}\n",
              "\n",
              "// Max number of bytes which will be uploaded at a time.\n",
              "const MAX_PAYLOAD_SIZE = 100 * 1024;\n",
              "\n",
              "function _uploadFiles(inputId, outputId) {\n",
              "  const steps = uploadFilesStep(inputId, outputId);\n",
              "  const outputElement = document.getElementById(outputId);\n",
              "  // Cache steps on the outputElement to make it available for the next call\n",
              "  // to uploadFilesContinue from Python.\n",
              "  outputElement.steps = steps;\n",
              "\n",
              "  return _uploadFilesContinue(outputId);\n",
              "}\n",
              "\n",
              "// This is roughly an async generator (not supported in the browser yet),\n",
              "// where there are multiple asynchronous steps and the Python side is going\n",
              "// to poll for completion of each step.\n",
              "// This uses a Promise to block the python side on completion of each step,\n",
              "// then passes the result of the previous step as the input to the next step.\n",
              "function _uploadFilesContinue(outputId) {\n",
              "  const outputElement = document.getElementById(outputId);\n",
              "  const steps = outputElement.steps;\n",
              "\n",
              "  const next = steps.next(outputElement.lastPromiseValue);\n",
              "  return Promise.resolve(next.value.promise).then((value) => {\n",
              "    // Cache the last promise value to make it available to the next\n",
              "    // step of the generator.\n",
              "    outputElement.lastPromiseValue = value;\n",
              "    return next.value.response;\n",
              "  });\n",
              "}\n",
              "\n",
              "/**\n",
              " * Generator function which is called between each async step of the upload\n",
              " * process.\n",
              " * @param {string} inputId Element ID of the input file picker element.\n",
              " * @param {string} outputId Element ID of the output display.\n",
              " * @return {!Iterable<!Object>} Iterable of next steps.\n",
              " */\n",
              "function* uploadFilesStep(inputId, outputId) {\n",
              "  const inputElement = document.getElementById(inputId);\n",
              "  inputElement.disabled = false;\n",
              "\n",
              "  const outputElement = document.getElementById(outputId);\n",
              "  outputElement.innerHTML = '';\n",
              "\n",
              "  const pickedPromise = new Promise((resolve) => {\n",
              "    inputElement.addEventListener('change', (e) => {\n",
              "      resolve(e.target.files);\n",
              "    });\n",
              "  });\n",
              "\n",
              "  const cancel = document.createElement('button');\n",
              "  inputElement.parentElement.appendChild(cancel);\n",
              "  cancel.textContent = 'Cancel upload';\n",
              "  const cancelPromise = new Promise((resolve) => {\n",
              "    cancel.onclick = () => {\n",
              "      resolve(null);\n",
              "    };\n",
              "  });\n",
              "\n",
              "  // Wait for the user to pick the files.\n",
              "  const files = yield {\n",
              "    promise: Promise.race([pickedPromise, cancelPromise]),\n",
              "    response: {\n",
              "      action: 'starting',\n",
              "    }\n",
              "  };\n",
              "\n",
              "  cancel.remove();\n",
              "\n",
              "  // Disable the input element since further picks are not allowed.\n",
              "  inputElement.disabled = true;\n",
              "\n",
              "  if (!files) {\n",
              "    return {\n",
              "      response: {\n",
              "        action: 'complete',\n",
              "      }\n",
              "    };\n",
              "  }\n",
              "\n",
              "  for (const file of files) {\n",
              "    const li = document.createElement('li');\n",
              "    li.append(span(file.name, {fontWeight: 'bold'}));\n",
              "    li.append(span(\n",
              "        `(${file.type || 'n/a'}) - ${file.size} bytes, ` +\n",
              "        `last modified: ${\n",
              "            file.lastModifiedDate ? file.lastModifiedDate.toLocaleDateString() :\n",
              "                                    'n/a'} - `));\n",
              "    const percent = span('0% done');\n",
              "    li.appendChild(percent);\n",
              "\n",
              "    outputElement.appendChild(li);\n",
              "\n",
              "    const fileDataPromise = new Promise((resolve) => {\n",
              "      const reader = new FileReader();\n",
              "      reader.onload = (e) => {\n",
              "        resolve(e.target.result);\n",
              "      };\n",
              "      reader.readAsArrayBuffer(file);\n",
              "    });\n",
              "    // Wait for the data to be ready.\n",
              "    let fileData = yield {\n",
              "      promise: fileDataPromise,\n",
              "      response: {\n",
              "        action: 'continue',\n",
              "      }\n",
              "    };\n",
              "\n",
              "    // Use a chunked sending to avoid message size limits. See b/62115660.\n",
              "    let position = 0;\n",
              "    do {\n",
              "      const length = Math.min(fileData.byteLength - position, MAX_PAYLOAD_SIZE);\n",
              "      const chunk = new Uint8Array(fileData, position, length);\n",
              "      position += length;\n",
              "\n",
              "      const base64 = btoa(String.fromCharCode.apply(null, chunk));\n",
              "      yield {\n",
              "        response: {\n",
              "          action: 'append',\n",
              "          file: file.name,\n",
              "          data: base64,\n",
              "        },\n",
              "      };\n",
              "\n",
              "      let percentDone = fileData.byteLength === 0 ?\n",
              "          100 :\n",
              "          Math.round((position / fileData.byteLength) * 100);\n",
              "      percent.textContent = `${percentDone}% done`;\n",
              "\n",
              "    } while (position < fileData.byteLength);\n",
              "  }\n",
              "\n",
              "  // All done.\n",
              "  yield {\n",
              "    response: {\n",
              "      action: 'complete',\n",
              "    }\n",
              "  };\n",
              "}\n",
              "\n",
              "scope.google = scope.google || {};\n",
              "scope.google.colab = scope.google.colab || {};\n",
              "scope.google.colab._files = {\n",
              "  _uploadFiles,\n",
              "  _uploadFilesContinue,\n",
              "};\n",
              "})(self);\n",
              "</script> "
            ],
            "text/plain": [
              "<IPython.core.display.HTML object>"
            ]
          },
          "metadata": {},
          "output_type": "display_data"
        },
        {
          "name": "stdout",
          "output_type": "stream",
          "text": [
            "Saving Gutenberg_Pride&Prejudice.txt to Gutenberg_Pride&Prejudice.txt\n"
          ]
        }
      ],
      "source": [
        "#importing the file. Upload the downloaded text file that is provided with this notebook\n",
        "from google.colab import files\n",
        "uploaded = files.upload()"
      ]
    },
    {
      "cell_type": "code",
      "execution_count": null,
      "metadata": {
        "id": "eaXOu8lcz1BN"
      },
      "outputs": [],
      "source": [
        "#reading the file\n",
        "file = open(\"Gutenberg_Pride&Prejudice.txt\", \"r\", encoding = \"utf8\")\n",
        "\n",
        "# store file in list\n",
        "lines = []\n",
        "for i in file:\n",
        "    lines.append(i)\n",
        "\n",
        "# Convert list to string\n",
        "data = \"\"\n",
        "for i in lines:\n",
        "  data = ' '. join(lines)\n"
      ]
    },
    {
      "cell_type": "markdown",
      "metadata": {
        "id": "Ygz9EdiwCDEz"
      },
      "source": [
        "#Cleaning the text\n",
        "The text is cleaned for large whitespaces, unusual symbols and digits. The text won't be treated for lower case to keep the meaning of some Noun like names of person and place to be uniquwly identified."
      ]
    },
    {
      "cell_type": "code",
      "execution_count": null,
      "metadata": {
        "id": "i95QwsQpActP"
      },
      "outputs": [],
      "source": [
        "#replace all newline character, carriage return character, Unicode character and quotation marks with empty string\n",
        "data = data.replace('\\n', '').replace('\\r', '').replace('\\ufeff', '').replace('“','').replace('”','')\n",
        "\n",
        "def remove_symbols(string):\n",
        "    # Define the pattern to match symbols and special characters\n",
        "    pattern = r\"(?<![A-Za-z0-9])-|-(?![A-Za-z0-9])|[^-\\w\\s*()\\[\\]_:;]\"\n",
        "\n",
        "    # Use regex to replace the matched pattern with an empty string\n",
        "    cleaned_string = re.sub(pattern, \"\", string)\n",
        "\n",
        "    return cleaned_string"
      ]
    },
    {
      "cell_type": "code",
      "execution_count": null,
      "metadata": {
        "colab": {
          "base_uri": "https://localhost:8080/",
          "height": 139
        },
        "id": "PCfZpuONFn23",
        "outputId": "af30da14-71b1-4f20-fb45-27e873d19bbe"
      },
      "outputs": [
        {
          "data": {
            "application/vnd.google.colaboratory.intrinsic+json": {
              "type": "string"
            },
            "text/plain": [
              "'The Project Gutenberg eBook of Pride and Prejudice This ebook is for the use of anyone anywhere in the United States and most other parts of the world at no cost and with almost no restrictions whatsoever. You may copy it, give it away or re-use it under the terms of the Project Gutenberg License included with this ebook or online at www.gutenberg.org. If you are not located in the United States, you will have to check the laws of the country where you are located before using this eBook. Title: Pride and Prejudice Author: Jane Austen Release date: June 1, 1998 [eBook #1342] Most recently updated: April 14, 2023 Language: English Credits: Chuck Greif and the Online Distributed Proofreading Team at http://www.pgdp.net (This file was produced from images available at The Internet Archive) *** START OF THE PROJECT GUTENBERG EBOOK PRIDE AND PREJUDICE *** [Illustration: GEORGE ALLEN PUBLISHER 156 CHARING CROSS ROAD LONDON RUSKIN HOUSE ] [Illustration: _Reading Jane’s Letters._ _Chap 34._ ] '"
            ]
          },
          "execution_count": 5,
          "metadata": {},
          "output_type": "execute_result"
        }
      ],
      "source": [
        "remove_symbols(data)\n",
        "#splits the string at each occurrence of whitespace characters and the joins them back.\n",
        "#This essentially helps in removing extra whitespace and collapses multiple consecutive whitespace characters into a single space\n",
        "data = data.split()\n",
        "data = ' '.join(data)\n",
        "data[:1000]"
      ]
    },
    {
      "cell_type": "code",
      "execution_count": null,
      "metadata": {
        "colab": {
          "base_uri": "https://localhost:8080/"
        },
        "id": "LkuL4vkSz28d",
        "outputId": "13509c44-db9b-47c4-b195-894c6cc589e2"
      },
      "outputs": [
        {
          "name": "stdout",
          "output_type": "stream",
          "text": [
            "7254\n",
            "The Length of sequences are:  131175\n",
            "Data:  [[   1  181  390]\n",
            " [ 181  390 1000]\n",
            " [ 390 1000    3]\n",
            " [1000    3  298]\n",
            " [   3  298    4]\n",
            " [ 298    4  946]\n",
            " [   4  946   41]\n",
            " [ 946   41 1000]\n",
            " [  41 1000   23]\n",
            " [1000   23   21]]\n",
            "Response:  [1000    3  298    4  946   41 1000   23   21    1]\n"
          ]
        },
        {
          "data": {
            "text/plain": [
              "array([[0., 0., 0., ..., 0., 0., 0.],\n",
              "       [0., 0., 0., ..., 0., 0., 0.],\n",
              "       [0., 0., 0., ..., 0., 0., 0.],\n",
              "       [0., 0., 0., ..., 0., 0., 0.],\n",
              "       [0., 0., 0., ..., 0., 0., 0.]], dtype=float32)"
            ]
          },
          "execution_count": 6,
          "metadata": {},
          "output_type": "execute_result"
        }
      ],
      "source": [
        "#using tokenizer from tensorflow to tokenize the words\n",
        "tokenizer = Tokenizer()\n",
        "tokenizer.fit_on_texts([data])\n",
        "\n",
        "# saving the tokenizer for predict function in a pickle file for reusability purpose\n",
        "pickle.dump(tokenizer, open('token.pkl', 'wb'))\n",
        "\n",
        "#converting the input text data into a sequence of integers\n",
        "sequence_data = tokenizer.texts_to_sequences([data])[0]\n",
        "sequence_data[:15]\n",
        "len(sequence_data)\n",
        "vocab_size = len(tokenizer.word_index) + 1 #obtaning the unique vocabulary size for the tokenizer\n",
        "print(vocab_size)\n",
        "sequences = [] #list will be used to store sequences of integers representing texts or sentences\n",
        "\n",
        "#the loop takes the sequence_data list and creates sequences of four consecutive integers from it.\n",
        "#These sequences are then appended to the sequences list\n",
        "for i in range(3, len(sequence_data)):\n",
        "    words = sequence_data[i-3:i+1]\n",
        "    sequences.append(words)\n",
        "\n",
        "print(\"The Length of sequences are: \", len(sequences))\n",
        "sequences = np.array(sequences)\n",
        "sequences[:10]\n",
        "\n",
        "#creating empty list for X and y that will store input features and corresponding labels\n",
        "X = []\n",
        "y = []\n",
        "for i in sequences:\n",
        "    X.append(i[0:3]) # extract the first three elements of each sequence\n",
        "    y.append(i[3]) # fourth element of each sequence\n",
        "\n",
        "X = np.array(X)\n",
        "y = np.array(y)\n",
        "print(\"Data: \", X[:10])\n",
        "print(\"Response: \", y[:10])\n",
        "y = to_categorical(y, num_classes=vocab_size)\n",
        "y[:5]"
      ]
    },
    {
      "cell_type": "markdown",
      "metadata": {
        "id": "wUKUnxd0OeJk"
      },
      "source": [
        "#Model Building"
      ]
    },
    {
      "cell_type": "code",
      "execution_count": null,
      "metadata": {
        "id": "OL6zbNGF0RAS"
      },
      "outputs": [],
      "source": [
        "#splitting the dataset into X and y\n",
        "from sklearn.model_selection import train_test_split\n",
        "X_train, X_test, Y_train, Y_test = train_test_split(X,y, test_size = 0.20, random_state = 42)"
      ]
    },
    {
      "cell_type": "markdown",
      "metadata": {
        "id": "9tFsUAobMmY_"
      },
      "source": [
        "## Creating the layers of Neural Network\n",
        "\n",
        "1. Here we haven input layer followed by an embdding layer that converts input tokens into dense vectors of vocab size 10. <br>\n",
        "\n",
        "2. Next is a bidirectional LSTM layer, that process input both forward and backward directions, allowing the model to capture context from both past and future information <br>\n",
        "\n",
        "3. Then we have a LSTM layer, which help in capturing long term dependencies in sequential data, to retain information over longer sequences. <br>\n",
        "\n",
        "4. Lastly, there are two dense layers, that allows for complex and expressive mapping between the LSTM layer's outputs and the final prediction. Each dense layer applies a linear transformation followed by a non-linear activation function to the inputs, enabling the model to learn intricate patterns and relationships in the data. <br>\n",
        "\n",
        "The purpose of having two LSTM and dense layers builds the potential of the model to capture and learn more complex relationships and improve model's overall performance.\n",
        "\n",
        "\n"
      ]
    },
    {
      "cell_type": "code",
      "execution_count": null,
      "metadata": {
        "colab": {
          "base_uri": "https://localhost:8080/"
        },
        "id": "DcadHwXMz9G3",
        "outputId": "15a4c0de-b3eb-49fd-86ff-72800536064d"
      },
      "outputs": [
        {
          "name": "stdout",
          "output_type": "stream",
          "text": [
            "Model: \"sequential\"\n",
            "_________________________________________________________________\n",
            " Layer (type)                Output Shape              Param #   \n",
            "=================================================================\n",
            " embedding (Embedding)       (None, 3, 10)             72540     \n",
            "                                                                 \n",
            " bidirectional (Bidirection  (None, 3, 2000)           8088000   \n",
            " al)                                                             \n",
            "                                                                 \n",
            " lstm_1 (LSTM)               (None, 1000)              12004000  \n",
            "                                                                 \n",
            " dense (Dense)               (None, 1000)              1001000   \n",
            "                                                                 \n",
            " dense_1 (Dense)             (None, 7254)              7261254   \n",
            "                                                                 \n",
            "=================================================================\n",
            "Total params: 28426794 (108.44 MB)\n",
            "Trainable params: 28426794 (108.44 MB)\n",
            "Non-trainable params: 0 (0.00 Byte)\n",
            "_________________________________________________________________\n"
          ]
        }
      ],
      "source": [
        "# creating sequential neural network model for sequential data processing and multi-class classification tasks\n",
        "\n",
        "model = Sequential()\n",
        "model.add(Embedding(vocab_size, 10, input_length=3)) #embedding layer\n",
        "model.add(Bidirectional(LSTM(1000, return_sequences=True))) #processes the input sequence in both forward and backward directions, capturing information from both past and future contexts\n",
        "model.add(LSTM(1000))\n",
        "model.add(Dense(1000, activation=\"relu\")) #fully connected dense layer to the model.\n",
        "model.add(Dense(vocab_size, activation=\"softmax\"))\n",
        "model.summary()"
      ]
    },
    {
      "cell_type": "code",
      "execution_count": null,
      "metadata": {
        "colab": {
          "base_uri": "https://localhost:8080/",
          "height": 564
        },
        "id": "U-SToDBoz_7p",
        "outputId": "c1901daf-78cd-4e07-e00e-93f49b64922c"
      },
      "outputs": [
        {
          "data": {
            "image/png": "[encoded data removed]",
            "text/plain": [
              "<IPython.core.display.Image object>"
            ]
          },
          "execution_count": 9,
          "metadata": {},
          "output_type": "execute_result"
        }
      ],
      "source": [
        "#Diagramatic representation of the layers\n",
        "from tensorflow import keras\n",
        "keras.utils.plot_model(model, to_file='plot.png', show_layer_names=False)\n"
      ]
    },
    {
      "cell_type": "markdown",
      "metadata": {
        "id": "LUHcbWOG5Iqf"
      },
      "source": [
        "## About modeling\n",
        "After setting up the layers of neural network, the model is engineered on how to train or fit the model on the training and testing dataset.\n",
        "\n",
        "For this, the concept of callback is used to optimise the training process. Two callback functions are used, Early stopping and Model Checkpoint.\n",
        "\n",
        "The **EarlyStopping** callback monitors the validation loss (how well the model fits new data) and stops training if the loss doesn't improve for a specified number of epochs.\n",
        "\n",
        "The **ModelCheckpoint** callback saves the best model weights based on the training loss. The model is compiled with the categorical cross-entropy loss, Adam optimizer, and accuracy metric.\n",
        "\n"
      ]
    },
    {
      "cell_type": "code",
      "execution_count": null,
      "metadata": {
        "colab": {
          "base_uri": "https://localhost:8080/"
        },
        "id": "FoNbUmat0C7K",
        "outputId": "3e2ba81a-6633-4088-fdb3-e8c8c095a223"
      },
      "outputs": [
        {
          "name": "stdout",
          "output_type": "stream",
          "text": [
            "Epoch 1/30\n",
            "1640/1640 [==============================] - ETA: 0s - loss: 6.2259 - accuracy: 0.0584\n",
            "Epoch 1: loss improved from inf to 6.22589, saving model to next_words.h5\n"
          ]
        },
        {
          "name": "stderr",
          "output_type": "stream",
          "text": [
            "/usr/local/lib/python3.10/dist-packages/keras/src/engine/training.py:3079: UserWarning: You are saving your model as an HDF5 file via `model.save()`. This file format is considered legacy. We recommend using instead the native Keras format, e.g. `model.save('my_model.keras')`.\n",
            "  saving_api.save_model(\n"
          ]
        },
        {
          "name": "stdout",
          "output_type": "stream",
          "text": [
            "\b\b\b\b\b\b\b\b\b\b\b\b\b\b\b\b\b\b\b\b\b\b\b\b\b\b\b\b\b\b\b\b\b\b\b\b\b\b\b\b\b\b\b\b\b\b\b\b\b\b\b\b\b\b\b\b\b\b\b\b\b\b\b\b\b\b\b\b\b\b\b\b\b\b\b\b\b\b\b\b\b\b\b\b\b\b\r1640/1640 [==============================] - 86s 43ms/step - loss: 6.2259 - accuracy: 0.0584 - val_loss: 5.8303 - val_accuracy: 0.0895\n",
            "Epoch 2/30\n",
            "1640/1640 [==============================] - ETA: 0s - loss: 5.5747 - accuracy: 0.1063\n",
            "Epoch 2: loss improved from 6.22589 to 5.57469, saving model to next_words.h5\n",
            "1640/1640 [==============================] - 65s 39ms/step - loss: 5.5747 - accuracy: 0.1063 - val_loss: 5.6113 - val_accuracy: 0.1148\n",
            "Epoch 3/30\n",
            "1640/1640 [==============================] - ETA: 0s - loss: 5.2299 - accuracy: 0.1239\n",
            "Epoch 3: loss improved from 5.57469 to 5.22990, saving model to next_words.h5\n",
            "1640/1640 [==============================] - 59s 36ms/step - loss: 5.2299 - accuracy: 0.1239 - val_loss: 5.5545 - val_accuracy: 0.1229\n",
            "Epoch 4/30\n",
            "1640/1640 [==============================] - ETA: 0s - loss: 4.9727 - accuracy: 0.1400\n",
            "Epoch 4: loss improved from 5.22990 to 4.97265, saving model to next_words.h5\n",
            "1640/1640 [==============================] - 65s 40ms/step - loss: 4.9727 - accuracy: 0.1400 - val_loss: 5.5742 - val_accuracy: 0.1348\n",
            "Epoch 5/30\n",
            "1640/1640 [==============================] - ETA: 0s - loss: 4.7576 - accuracy: 0.1507\n",
            "Epoch 5: loss improved from 4.97265 to 4.75759, saving model to next_words.h5\n",
            "1640/1640 [==============================] - 64s 39ms/step - loss: 4.7576 - accuracy: 0.1507 - val_loss: 5.6373 - val_accuracy: 0.1399\n",
            "Epoch 6/30\n",
            "1640/1640 [==============================] - ETA: 0s - loss: 4.5417 - accuracy: 0.1623\n",
            "Epoch 6: loss improved from 4.75759 to 4.54169, saving model to next_words.h5\n",
            "1640/1640 [==============================] - 69s 42ms/step - loss: 4.5417 - accuracy: 0.1623 - val_loss: 5.8506 - val_accuracy: 0.1413\n",
            "Epoch 7/30\n",
            "1639/1640 [============================>.] - ETA: 0s - loss: 4.3240 - accuracy: 0.1712\n",
            "Epoch 7: loss improved from 4.54169 to 4.32404, saving model to next_words.h5\n",
            "1640/1640 [==============================] - 68s 42ms/step - loss: 4.3240 - accuracy: 0.1712 - val_loss: 5.9942 - val_accuracy: 0.1419\n",
            "Epoch 8/30\n",
            "1640/1640 [==============================] - ETA: 0s - loss: 4.0977 - accuracy: 0.1825\n",
            "Epoch 8: loss improved from 4.32404 to 4.09766, saving model to next_words.h5\n",
            "1640/1640 [==============================] - 69s 42ms/step - loss: 4.0977 - accuracy: 0.1825 - val_loss: 6.3187 - val_accuracy: 0.1463\n",
            "Epoch 9/30\n",
            "1640/1640 [==============================] - ETA: 0s - loss: 3.8682 - accuracy: 0.1984\n",
            "Epoch 9: loss improved from 4.09766 to 3.86822, saving model to next_words.h5\n",
            "1640/1640 [==============================] - 69s 42ms/step - loss: 3.8682 - accuracy: 0.1984 - val_loss: 6.7914 - val_accuracy: 0.1426\n",
            "Epoch 10/30\n",
            "1640/1640 [==============================] - ETA: 0s - loss: 3.6299 - accuracy: 0.2199\n",
            "Epoch 10: loss improved from 3.86822 to 3.62990, saving model to next_words.h5\n",
            "1640/1640 [==============================] - 65s 39ms/step - loss: 3.6299 - accuracy: 0.2199 - val_loss: 7.2544 - val_accuracy: 0.1383\n",
            "Epoch 11/30\n",
            "1639/1640 [============================>.] - ETA: 0s - loss: 3.3846 - accuracy: 0.2483\n",
            "Epoch 11: loss improved from 3.62990 to 3.38469, saving model to next_words.h5\n",
            "1640/1640 [==============================] - 69s 42ms/step - loss: 3.3847 - accuracy: 0.2483 - val_loss: 7.7630 - val_accuracy: 0.1315\n",
            "Epoch 12/30\n",
            "1640/1640 [==============================] - ETA: 0s - loss: 3.1277 - accuracy: 0.2822\n",
            "Epoch 12: loss improved from 3.38469 to 3.12774, saving model to next_words.h5\n",
            "1640/1640 [==============================] - 68s 41ms/step - loss: 3.1277 - accuracy: 0.2822 - val_loss: 8.5298 - val_accuracy: 0.1281\n",
            "Epoch 13/30\n",
            "1639/1640 [============================>.] - ETA: 0s - loss: 2.8617 - accuracy: 0.3233\n",
            "Epoch 13: loss improved from 3.12774 to 2.86176, saving model to next_words.h5\n",
            "1640/1640 [==============================] - 70s 42ms/step - loss: 2.8618 - accuracy: 0.3233 - val_loss: 9.0589 - val_accuracy: 0.1278\n",
            "Epoch 14/30\n",
            "1640/1640 [==============================] - ETA: 0s - loss: 2.5893 - accuracy: 0.3711\n",
            "Epoch 14: loss improved from 2.86176 to 2.58935, saving model to next_words.h5\n",
            "1640/1640 [==============================] - 70s 43ms/step - loss: 2.5893 - accuracy: 0.3711 - val_loss: 9.6924 - val_accuracy: 0.1199\n",
            "Epoch 15/30\n",
            "1639/1640 [============================>.] - ETA: 0s - loss: 2.3038 - accuracy: 0.4277\n",
            "Epoch 15: loss improved from 2.58935 to 2.30381, saving model to next_words.h5\n",
            "1640/1640 [==============================] - 69s 42ms/step - loss: 2.3038 - accuracy: 0.4277 - val_loss: 10.6076 - val_accuracy: 0.1171\n",
            "Epoch 16/30\n",
            "1639/1640 [============================>.] - ETA: 0s - loss: 2.0224 - accuracy: 0.4863\n",
            "Epoch 16: loss improved from 2.30381 to 2.02253, saving model to next_words.h5\n",
            "1640/1640 [==============================] - 69s 42ms/step - loss: 2.0225 - accuracy: 0.4862 - val_loss: 11.4115 - val_accuracy: 0.1136\n",
            "Epoch 17/30\n",
            "1640/1640 [==============================] - ETA: 0s - loss: 1.7562 - accuracy: 0.5452\n",
            "Epoch 17: loss improved from 2.02253 to 1.75618, saving model to next_words.h5\n",
            "1640/1640 [==============================] - 70s 42ms/step - loss: 1.7562 - accuracy: 0.5452 - val_loss: 12.0621 - val_accuracy: 0.1095\n",
            "Epoch 18/30\n",
            "1640/1640 [==============================] - ETA: 0s - loss: 1.5119 - accuracy: 0.6050\n",
            "Epoch 18: loss improved from 1.75618 to 1.51188, saving model to next_words.h5\n",
            "1640/1640 [==============================] - 71s 44ms/step - loss: 1.5119 - accuracy: 0.6050 - val_loss: 13.0246 - val_accuracy: 0.1083\n",
            "Epoch 19/30\n",
            "1639/1640 [============================>.] - ETA: 0s - loss: 1.3124 - accuracy: 0.6544\n",
            "Epoch 19: loss improved from 1.51188 to 1.31247, saving model to next_words.h5\n",
            "1640/1640 [==============================] - 74s 45ms/step - loss: 1.3125 - accuracy: 0.6544 - val_loss: 13.4982 - val_accuracy: 0.1081\n",
            "Epoch 20/30\n",
            "1639/1640 [============================>.] - ETA: 0s - loss: 1.1395 - accuracy: 0.6993\n",
            "Epoch 20: loss improved from 1.31247 to 1.13965, saving model to next_words.h5\n",
            "1640/1640 [==============================] - 76s 46ms/step - loss: 1.1396 - accuracy: 0.6992 - val_loss: 13.9264 - val_accuracy: 0.1044\n",
            "Epoch 21/30\n",
            "1640/1640 [==============================] - ETA: 0s - loss: 1.0058 - accuracy: 0.7337\n",
            "Epoch 21: loss improved from 1.13965 to 1.00581, saving model to next_words.h5\n",
            "1640/1640 [==============================] - 74s 45ms/step - loss: 1.0058 - accuracy: 0.7337 - val_loss: 14.2250 - val_accuracy: 0.1055\n",
            "Epoch 22/30\n",
            "1639/1640 [============================>.] - ETA: 0s - loss: 0.9090 - accuracy: 0.7572\n",
            "Epoch 22: loss improved from 1.00581 to 0.90904, saving model to next_words.h5\n",
            "1640/1640 [==============================] - 76s 46ms/step - loss: 0.9090 - accuracy: 0.7571 - val_loss: 14.5946 - val_accuracy: 0.1043\n",
            "Epoch 23/30\n",
            "1639/1640 [============================>.] - ETA: 0s - loss: 0.8279 - accuracy: 0.7790\n",
            "Epoch 23: loss improved from 0.90904 to 0.82790, saving model to next_words.h5\n",
            "1640/1640 [==============================] - 79s 48ms/step - loss: 0.8279 - accuracy: 0.7790 - val_loss: 14.8481 - val_accuracy: 0.1029\n",
            "Epoch 24/30\n",
            "1640/1640 [==============================] - ETA: 0s - loss: 0.7737 - accuracy: 0.7919\n",
            "Epoch 24: loss improved from 0.82790 to 0.77369, saving model to next_words.h5\n",
            "1640/1640 [==============================] - 75s 45ms/step - loss: 0.7737 - accuracy: 0.7919 - val_loss: 15.3502 - val_accuracy: 0.1055\n",
            "Epoch 25/30\n",
            "1639/1640 [============================>.] - ETA: 0s - loss: 0.7271 - accuracy: 0.8028\n",
            "Epoch 25: loss improved from 0.77369 to 0.72707, saving model to next_words.h5\n",
            "1640/1640 [==============================] - 75s 46ms/step - loss: 0.7271 - accuracy: 0.8028 - val_loss: 15.6243 - val_accuracy: 0.1069\n",
            "Epoch 26/30\n",
            "1639/1640 [============================>.] - ETA: 0s - loss: 0.6965 - accuracy: 0.8090\n",
            "Epoch 26: loss improved from 0.72707 to 0.69647, saving model to next_words.h5\n",
            "1640/1640 [==============================] - 79s 48ms/step - loss: 0.6965 - accuracy: 0.8090 - val_loss: 15.5414 - val_accuracy: 0.1052\n",
            "Epoch 27/30\n",
            "1639/1640 [============================>.] - ETA: 0s - loss: 0.6631 - accuracy: 0.8155\n",
            "Epoch 27: loss improved from 0.69647 to 0.66311, saving model to next_words.h5\n",
            "1640/1640 [==============================] - 81s 49ms/step - loss: 0.6631 - accuracy: 0.8155 - val_loss: 15.7857 - val_accuracy: 0.1046\n",
            "Epoch 28/30\n",
            "1640/1640 [==============================] - ETA: 0s - loss: 0.6391 - accuracy: 0.8193\n",
            "Epoch 28: loss improved from 0.66311 to 0.63911, saving model to next_words.h5\n",
            "1640/1640 [==============================] - 82s 50ms/step - loss: 0.6391 - accuracy: 0.8193 - val_loss: 15.5817 - val_accuracy: 0.1022\n",
            "Epoch 29/30\n",
            "1639/1640 [============================>.] - ETA: 0s - loss: 0.6251 - accuracy: 0.8218\n",
            "Epoch 29: loss improved from 0.63911 to 0.62512, saving model to next_words.h5\n",
            "1640/1640 [==============================] - 79s 48ms/step - loss: 0.6251 - accuracy: 0.8219 - val_loss: 15.7939 - val_accuracy: 0.1049\n",
            "Epoch 30/30\n",
            "1639/1640 [============================>.] - ETA: 0s - loss: 0.5994 - accuracy: 0.8251\n",
            "Epoch 30: loss improved from 0.62512 to 0.59955, saving model to next_words.h5\n",
            "1640/1640 [==============================] - 83s 51ms/step - loss: 0.5996 - accuracy: 0.8250 - val_loss: 15.7995 - val_accuracy: 0.1040\n"
          ]
        }
      ],
      "source": [
        "#fitting the model\n",
        "from tensorflow.keras.callbacks import ModelCheckpoint\n",
        "from keras.callbacks import EarlyStopping\n",
        "\n",
        "\n",
        "early_stopping = EarlyStopping(monitor='val_loss', patience=5, restore_best_weights=True) #stops the training process early if a monitored metric stops improving\n",
        "checkpoint = ModelCheckpoint(\"next_words.h5\", monitor='loss', verbose=1, save_best_only=True) #display verbose output, and save only the best model weights based on the training loss\n",
        "model.compile(loss=\"categorical_crossentropy\", optimizer='adam',metrics = ['accuracy']) #compiles the model\n",
        "\n",
        "#fitting the model\n",
        "history = model.fit(X_train, Y_train, epochs = 30, batch_size=64, verbose = 1, validation_data =(X_test, Y_test),callbacks=[checkpoint])"
      ]
    },
    {
      "cell_type": "markdown",
      "metadata": {
        "id": "Pbnl47A67pTF"
      },
      "source": [
        "## Output Interpretation\n",
        "\n",
        "1. After 30 epochs, the validation accuracy (model perfomance in an unseen data) is 10.20%\n",
        "2. The model is overfitting since, the validation loss is greater than the training loss"
      ]
    },
    {
      "cell_type": "code",
      "execution_count": null,
      "metadata": {
        "colab": {
          "base_uri": "https://localhost:8080/",
          "height": 472
        },
        "id": "kOzNdXPH1blD",
        "outputId": "148b3360-caf0-487f-aaa9-7116c7885ada"
      },
      "outputs": [
        {
          "data": {
            "image/png": "[encoded data removed]",
            "text/plain": [
              "<Figure size 640x480 with 1 Axes>"
            ]
          },
          "metadata": {},
          "output_type": "display_data"
        }
      ],
      "source": [
        "import matplotlib.pyplot as plt\n",
        "\n",
        "# Access the loss values from the history object\n",
        "loss = history.history['loss']\n",
        "val_loss = history.history['val_loss']\n",
        "\n",
        "# Plot the loss and validation loss curves\n",
        "epochs = range(1, len(loss) + 1)\n",
        "plt.plot(epochs, loss, 'r', label='Training Loss')\n",
        "plt.plot(epochs, val_loss, 'b', label='Validation Loss')\n",
        "plt.title('Training and Validation Loss')\n",
        "plt.xlabel('Epochs')\n",
        "plt.ylabel('Loss')\n",
        "plt.legend()\n",
        "plt.show()"
      ]
    },
    {
      "cell_type": "markdown",
      "metadata": {
        "id": "vQwwNjdn-cpV"
      },
      "source": [
        "## Prediction\n",
        "Here, the model is put to test by predicitng the next word from the novel. You can try to type three words from the novel and see if it can predict the next word.\n",
        "Some example sentences:\n",
        "1. *But this word*\n",
        "2. *Mr. Collins could*\n",
        "3. *proceed from the*\n",
        "\n",
        "To predict a function is created that takes in the model, tokenizer and the text (user input), which first tokenizes the input text into integers and then converts it into array (suitable for the model's input).\n",
        "\n",
        "Then the array is then passed though the model for prediction and is stored empty string of predicted words.\n",
        "\n",
        "Then another 'for' loop iterates over the word_index attribute of the tokenizer to find the word corresponding to the predicted index. Once found, the word is assigned to the predicted_word variable"
      ]
    },
    {
      "cell_type": "code",
      "execution_count": null,
      "metadata": {
        "colab": {
          "background_save": true,
          "base_uri": "https://localhost:8080/"
        },
        "id": "n1YjnjEQ0E-O",
        "outputId": "51e32305-e2f4-4937-cec9-43b21be87366"
      },
      "outputs": [
        {
          "name": "stdout",
          "output_type": "stream",
          "text": [
            "['But', 'this', 'word']\n",
            "1/1 [==============================] - 1s 979ms/step\n",
            "cynical\n",
            "['yes']\n",
            "1/1 [==============================] - 1s 946ms/step\n",
            "but\n",
            "['yes']\n",
            "1/1 [==============================] - 0s 20ms/step\n",
            "but\n",
            "['yes']\n",
            "1/1 [==============================] - 0s 20ms/step\n",
            "but\n",
            "['yes']\n",
            "1/1 [==============================] - 0s 32ms/step\n",
            "but\n",
            "['yes']\n",
            "1/1 [==============================] - 0s 25ms/step\n",
            "but\n",
            "['Mr.', 'Collins', 'could']\n",
            "1/1 [==============================] - 0s 28ms/step\n",
            "be\n",
            "['But', 'this', 'word']\n",
            "1/1 [==============================] - 0s 19ms/step\n",
            "cynical\n",
            "['But', 'this', 'word']\n",
            "1/1 [==============================] - 0s 27ms/step\n",
            "cynical\n",
            "['Proceed', 'from', 'the']\n",
            "1/1 [==============================] - 0s 18ms/step\n",
            "difficulty\n"
          ]
        }
      ],
      "source": [
        "from tensorflow.keras.models import load_model\n",
        "import numpy as np\n",
        "import pickle\n",
        "\n",
        "# Load the model and tokenizer\n",
        "model = load_model('next_words.h5')\n",
        "tokenizer = pickle.load(open('token.pkl', 'rb'))\n",
        "\n",
        "#creating a function to predict next word by taking the user input, processing it fit the model and printing the predicted word\n",
        "def Predict_Next_Words(model, tokenizer, text):\n",
        "\n",
        "  sequence = tokenizer.texts_to_sequences([text])\n",
        "  sequence = np.array(sequence)\n",
        "  preds = np.argmax(model.predict(sequence))\n",
        "  predicted_word = \"\"\n",
        "\n",
        "  for key, value in tokenizer.word_index.items():\n",
        "      if value == preds:\n",
        "          predicted_word = key\n",
        "          break\n",
        "\n",
        "  print(predicted_word)\n",
        "  return predicted_word\n",
        "while(True):\n",
        "  text = input(\"Enter your line: \")\n",
        "\n",
        "  if text == \"0\":\n",
        "      print(\"Execution completed.....\")\n",
        "      break\n",
        "\n",
        "  else:\n",
        "      try:\n",
        "          text = text.split(\" \")\n",
        "          text = text[-3:]\n",
        "          print(text)\n",
        "\n",
        "          Predict_Next_Words(model, tokenizer, text)\n",
        "\n",
        "      except Exception as e:\n",
        "        print(\"Error occurred: \",e)\n",
        "        continue\n",
        "\n",
        "  predict_again = input(\"Do you want to predict again? (yes/no): \")\n",
        "  if predict_again.lower() == \"no\":\n",
        "        print(\"Execution completed.....\")\n",
        "        break"
      ]
    },
    {
      "cell_type": "code",
      "execution_count": null,
      "metadata": {
        "id": "KvhrAxoP0r3a"
      },
      "outputs": [],
      "source": []
    }
  ],
  "metadata": {
    "accelerator": "GPU",
    "colab": {
      "provenance": []
    },
    "kernelspec": {
      "display_name": "Python 3",
      "name": "python3"
    },
    "language_info": {
      "name": "python"
    }
  },
  "nbformat": 4,
  "nbformat_minor": 0
}